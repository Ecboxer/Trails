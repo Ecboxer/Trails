{
 "cells": [
  {
   "cell_type": "markdown",
   "metadata": {},
   "source": [
    "#### Looking for features with enough data to work with"
   ]
  },
  {
   "cell_type": "code",
   "execution_count": 1,
   "metadata": {},
   "outputs": [],
   "source": [
    "import pandas as pd\n",
    "import numpy as np\n",
    "from matplotlib import pyplot as plt\n",
    "import seaborn as sns"
   ]
  },
  {
   "cell_type": "code",
   "execution_count": 2,
   "metadata": {},
   "outputs": [
    {
     "data": {
      "text/plain": [
       "Index(['TRAIL_NO', 'TRAIL_NAME', 'TRAIL_TYPE', 'TRAIL_CN', 'BMP', 'EMP',\n",
       "       'SEGMENT_LENGTH', 'ADMIN_ORG', 'MANAGING_ORG', 'SECURITY_ID',\n",
       "       'ATTRIBUTESUBSET', 'NATIONAL_TRAIL_DESIGNATION', 'TRAIL_CLASS',\n",
       "       'TERRA_BASE_SYMBOLOGY', 'ACCESSIBILITY_STATUS', 'TRAIL_SURFACE',\n",
       "       'SURFACE_FIRMNESS', 'TYPICAL_TRAIL_GRADE', 'TYPICAL_TREAD_WIDTH',\n",
       "       'MINIMUM_TRAIL_WIDTH', 'TYPICAL_TREAD_CROSS_SLOPE', 'SPECIAL_MGMT_AREA',\n",
       "       'MVUM_SYMBOL', 'ALLOWED_TERRA_USE', 'ALLOWED_SNOW_USE',\n",
       "       'HIKER_PEDESTRIAN_MANAGED', 'HIKER_PEDESTRIAN_ACCPT_DISC',\n",
       "       'HIKER_PEDESTRIAN_RESTRICTED', 'PACK_SADDLE_MANAGED',\n",
       "       'PACK_SADDLE_ACCPT_DISC', 'PACK_SADDLE_RESTRICTED', 'BICYCLE_MANAGED',\n",
       "       'BICYCLE_ACCPT_DISC', 'BICYCLE_RESTRICTED', 'MOTORCYCLE_MANAGED',\n",
       "       'MOTORCYCLE_ACCPT_DISC', 'MOTORCYCLE_RESTRICTED', 'ATV_MANAGED',\n",
       "       'ATV_ACCPT_DISC', 'ATV_RESTRICTED', 'FOURWD_MANAGED',\n",
       "       'FOURWD_ACCPT_DISC', 'FOURWD_RESTRICTED', 'SNOWMOBILE_MANAGED',\n",
       "       'SNOWMOBILE_ACCPT_DISC', 'SNOWMOBILE_RESTRICTED', 'SNOWSHOE_MANAGED',\n",
       "       'SNOWSHOE_ACCPT_DISC', 'SNOWSHOE_RESTRICTED', 'XCOUNTRY_SKI_MANAGED',\n",
       "       'XCOUNTRY_SKI_ACCPT_DISC', 'XCOUNTRY_SKI_RESTRICTED',\n",
       "       'MOTOR_WATERCRAFT_MANAGED', 'MOTOR_WATERCRAFT_ACCPT_DISC',\n",
       "       'MOTOR_WATERCRAFT_RESTRICTED', 'NONMOTOR_WATERCRAFT_MANAGED',\n",
       "       'NONMOTOR_WATERCRAFT_ACCPT_DISC', 'NONMOTOR_WATERCRAFT_RESTRICTED',\n",
       "       'GIS_MILES', 'TERRA_MOTORIZED', 'SNOW_MOTORIZED', 'WATER_MOTORIZED',\n",
       "       'OBJECTID', 'SHAPE_Length'],\n",
       "      dtype='object')"
      ]
     },
     "execution_count": 2,
     "metadata": {},
     "output_type": "execute_result"
    }
   ],
   "source": [
    "df = pd.read_csv('../Resources/NationalForestSystemTrails.csv')\n",
    "df.columns"
   ]
  },
  {
   "cell_type": "code",
   "execution_count": 3,
   "metadata": {},
   "outputs": [
    {
     "name": "stdout",
     "output_type": "stream",
     "text": [
      "TRAIL_NO    1000\n",
      "dtype: int64\n",
      "TRAIL_NAME    764\n",
      "dtype: int64\n",
      "TRAIL_TYPE    1000\n",
      "dtype: int64\n",
      "TRAIL_CN    1000\n",
      "dtype: int64\n",
      "BMP    1000\n",
      "dtype: int64\n",
      "EMP    1000\n",
      "dtype: int64\n",
      "SEGMENT_LENGTH    1000\n",
      "dtype: int64\n",
      "ADMIN_ORG    1000\n",
      "dtype: int64\n",
      "MANAGING_ORG    1000\n",
      "dtype: int64\n",
      "SECURITY_ID    1000\n",
      "dtype: int64\n",
      "ATTRIBUTESUBSET    1000\n",
      "dtype: int64\n",
      "NATIONAL_TRAIL_DESIGNATION    1000\n",
      "dtype: int64\n",
      "TRAIL_CLASS    1000\n",
      "dtype: int64\n",
      "TERRA_BASE_SYMBOLOGY    963\n",
      "dtype: int64\n",
      "MVUM_SYMBOL    1000\n",
      "dtype: int64\n",
      "GIS_MILES    1000\n",
      "dtype: int64\n",
      "OBJECTID    1000\n",
      "dtype: int64\n",
      "SHAPE_Length    846\n",
      "dtype: int64\n"
     ]
    }
   ],
   "source": [
    "cols = []\n",
    "for i in df.columns:\n",
    "    if df[i].count() > 500:\n",
    "        print(df[[i]].count())\n",
    "        cols.append(i)"
   ]
  },
  {
   "cell_type": "code",
   "execution_count": 4,
   "metadata": {},
   "outputs": [
    {
     "data": {
      "text/html": [
       "<div>\n",
       "<style scoped>\n",
       "    .dataframe tbody tr th:only-of-type {\n",
       "        vertical-align: middle;\n",
       "    }\n",
       "\n",
       "    .dataframe tbody tr th {\n",
       "        vertical-align: top;\n",
       "    }\n",
       "\n",
       "    .dataframe thead th {\n",
       "        text-align: right;\n",
       "    }\n",
       "</style>\n",
       "<table border=\"1\" class=\"dataframe\">\n",
       "  <thead>\n",
       "    <tr style=\"text-align: right;\">\n",
       "      <th></th>\n",
       "      <th>TRAIL_NO</th>\n",
       "      <th>TRAIL_NAME</th>\n",
       "      <th>TRAIL_TYPE</th>\n",
       "      <th>TRAIL_CN</th>\n",
       "      <th>BMP</th>\n",
       "      <th>EMP</th>\n",
       "      <th>SEGMENT_LENGTH</th>\n",
       "      <th>ADMIN_ORG</th>\n",
       "      <th>MANAGING_ORG</th>\n",
       "      <th>SECURITY_ID</th>\n",
       "      <th>ATTRIBUTESUBSET</th>\n",
       "      <th>NATIONAL_TRAIL_DESIGNATION</th>\n",
       "      <th>TRAIL_CLASS</th>\n",
       "      <th>TERRA_BASE_SYMBOLOGY</th>\n",
       "      <th>MVUM_SYMBOL</th>\n",
       "      <th>GIS_MILES</th>\n",
       "      <th>OBJECTID</th>\n",
       "      <th>SHAPE_Length</th>\n",
       "    </tr>\n",
       "  </thead>\n",
       "  <tbody>\n",
       "    <tr>\n",
       "      <th>0</th>\n",
       "      <td>291</td>\n",
       "      <td>DREW CANYON</td>\n",
       "      <td>TERRA</td>\n",
       "      <td>1.163101e+10</td>\n",
       "      <td>0.0</td>\n",
       "      <td>0.535</td>\n",
       "      <td>0.535</td>\n",
       "      <td>30102</td>\n",
       "      <td>30102</td>\n",
       "      <td>301</td>\n",
       "      <td>TrailNFS_Basic</td>\n",
       "      <td>1</td>\n",
       "      <td>2</td>\n",
       "      <td>TC1-2</td>\n",
       "      <td>99</td>\n",
       "      <td>0.542</td>\n",
       "      <td>1</td>\n",
       "      <td>1054.873841</td>\n",
       "    </tr>\n",
       "    <tr>\n",
       "      <th>1</th>\n",
       "      <td>602C</td>\n",
       "      <td>OSPREY</td>\n",
       "      <td>TERRA</td>\n",
       "      <td>1.160901e+10</td>\n",
       "      <td>0.0</td>\n",
       "      <td>0.375</td>\n",
       "      <td>0.375</td>\n",
       "      <td>30106</td>\n",
       "      <td>30106</td>\n",
       "      <td>301</td>\n",
       "      <td>TrailNFS_Basic</td>\n",
       "      <td>1</td>\n",
       "      <td>4</td>\n",
       "      <td>TC4-5</td>\n",
       "      <td>99</td>\n",
       "      <td>0.381</td>\n",
       "      <td>2</td>\n",
       "      <td>728.075541</td>\n",
       "    </tr>\n",
       "    <tr>\n",
       "      <th>2</th>\n",
       "      <td>648</td>\n",
       "      <td>MEADOWVIEW</td>\n",
       "      <td>TERRA</td>\n",
       "      <td>1.261001e+10</td>\n",
       "      <td>0.0</td>\n",
       "      <td>0.212</td>\n",
       "      <td>0.212</td>\n",
       "      <td>30107</td>\n",
       "      <td>30107</td>\n",
       "      <td>301</td>\n",
       "      <td>TrailNFS_Basic</td>\n",
       "      <td>1</td>\n",
       "      <td>3</td>\n",
       "      <td>TC3</td>\n",
       "      <td>99</td>\n",
       "      <td>0.207</td>\n",
       "      <td>3</td>\n",
       "      <td>412.691543</td>\n",
       "    </tr>\n",
       "    <tr>\n",
       "      <th>3</th>\n",
       "      <td>107C</td>\n",
       "      <td>PINEVIEW CONNECTOR</td>\n",
       "      <td>TERRA</td>\n",
       "      <td>1.260101e+10</td>\n",
       "      <td>0.0</td>\n",
       "      <td>0.230</td>\n",
       "      <td>0.230</td>\n",
       "      <td>30107</td>\n",
       "      <td>30107</td>\n",
       "      <td>301</td>\n",
       "      <td>TrailNFS_Basic</td>\n",
       "      <td>1</td>\n",
       "      <td>3</td>\n",
       "      <td>TC3</td>\n",
       "      <td>99</td>\n",
       "      <td>0.238</td>\n",
       "      <td>4</td>\n",
       "      <td>445.207838</td>\n",
       "    </tr>\n",
       "    <tr>\n",
       "      <th>4</th>\n",
       "      <td>602G</td>\n",
       "      <td>GROUSE</td>\n",
       "      <td>TERRA</td>\n",
       "      <td>1.160501e+10</td>\n",
       "      <td>0.0</td>\n",
       "      <td>1.200</td>\n",
       "      <td>1.200</td>\n",
       "      <td>30106</td>\n",
       "      <td>30106</td>\n",
       "      <td>301</td>\n",
       "      <td>TrailNFS_Basic</td>\n",
       "      <td>1</td>\n",
       "      <td>4</td>\n",
       "      <td>TC4-5</td>\n",
       "      <td>99</td>\n",
       "      <td>1.169</td>\n",
       "      <td>5</td>\n",
       "      <td>2244.851243</td>\n",
       "    </tr>\n",
       "  </tbody>\n",
       "</table>\n",
       "</div>"
      ],
      "text/plain": [
       "  TRAIL_NO          TRAIL_NAME TRAIL_TYPE      TRAIL_CN  BMP    EMP  \\\n",
       "0      291         DREW CANYON      TERRA  1.163101e+10  0.0  0.535   \n",
       "1     602C              OSPREY      TERRA  1.160901e+10  0.0  0.375   \n",
       "2      648          MEADOWVIEW      TERRA  1.261001e+10  0.0  0.212   \n",
       "3     107C  PINEVIEW CONNECTOR      TERRA  1.260101e+10  0.0  0.230   \n",
       "4     602G              GROUSE      TERRA  1.160501e+10  0.0  1.200   \n",
       "\n",
       "   SEGMENT_LENGTH  ADMIN_ORG  MANAGING_ORG  SECURITY_ID ATTRIBUTESUBSET  \\\n",
       "0           0.535      30102         30102          301  TrailNFS_Basic   \n",
       "1           0.375      30106         30106          301  TrailNFS_Basic   \n",
       "2           0.212      30107         30107          301  TrailNFS_Basic   \n",
       "3           0.230      30107         30107          301  TrailNFS_Basic   \n",
       "4           1.200      30106         30106          301  TrailNFS_Basic   \n",
       "\n",
       "   NATIONAL_TRAIL_DESIGNATION TRAIL_CLASS TERRA_BASE_SYMBOLOGY  MVUM_SYMBOL  \\\n",
       "0                           1           2                TC1-2           99   \n",
       "1                           1           4                TC4-5           99   \n",
       "2                           1           3                  TC3           99   \n",
       "3                           1           3                  TC3           99   \n",
       "4                           1           4                TC4-5           99   \n",
       "\n",
       "   GIS_MILES  OBJECTID  SHAPE_Length  \n",
       "0      0.542         1   1054.873841  \n",
       "1      0.381         2    728.075541  \n",
       "2      0.207         3    412.691543  \n",
       "3      0.238         4    445.207838  \n",
       "4      1.169         5   2244.851243  "
      ]
     },
     "execution_count": 4,
     "metadata": {},
     "output_type": "execute_result"
    }
   ],
   "source": [
    "df_suf = df[cols]\n",
    "df_suf.head()"
   ]
  },
  {
   "cell_type": "code",
   "execution_count": 5,
   "metadata": {},
   "outputs": [
    {
     "data": {
      "text/html": [
       "<div>\n",
       "<style scoped>\n",
       "    .dataframe tbody tr th:only-of-type {\n",
       "        vertical-align: middle;\n",
       "    }\n",
       "\n",
       "    .dataframe tbody tr th {\n",
       "        vertical-align: top;\n",
       "    }\n",
       "\n",
       "    .dataframe thead th {\n",
       "        text-align: right;\n",
       "    }\n",
       "</style>\n",
       "<table border=\"1\" class=\"dataframe\">\n",
       "  <thead>\n",
       "    <tr style=\"text-align: right;\">\n",
       "      <th></th>\n",
       "      <th>TRAIL_CN</th>\n",
       "      <th>BMP</th>\n",
       "      <th>EMP</th>\n",
       "      <th>SEGMENT_LENGTH</th>\n",
       "      <th>ADMIN_ORG</th>\n",
       "      <th>MANAGING_ORG</th>\n",
       "      <th>SECURITY_ID</th>\n",
       "      <th>NATIONAL_TRAIL_DESIGNATION</th>\n",
       "      <th>MVUM_SYMBOL</th>\n",
       "      <th>GIS_MILES</th>\n",
       "      <th>OBJECTID</th>\n",
       "      <th>SHAPE_Length</th>\n",
       "    </tr>\n",
       "  </thead>\n",
       "  <tbody>\n",
       "    <tr>\n",
       "      <th>count</th>\n",
       "      <td>1.000000e+03</td>\n",
       "      <td>1000.000000</td>\n",
       "      <td>1000.000000</td>\n",
       "      <td>1000.000000</td>\n",
       "      <td>1000.000000</td>\n",
       "      <td>1000.000000</td>\n",
       "      <td>1000.000000</td>\n",
       "      <td>1000.000000</td>\n",
       "      <td>1000.0</td>\n",
       "      <td>1000.000000</td>\n",
       "      <td>1000.000000</td>\n",
       "      <td>846.000000</td>\n",
       "    </tr>\n",
       "    <tr>\n",
       "      <th>mean</th>\n",
       "      <td>2.254884e+11</td>\n",
       "      <td>0.340454</td>\n",
       "      <td>2.268812</td>\n",
       "      <td>1.928358</td>\n",
       "      <td>45857.877000</td>\n",
       "      <td>45545.443000</td>\n",
       "      <td>460.022000</td>\n",
       "      <td>0.413000</td>\n",
       "      <td>99.0</td>\n",
       "      <td>1.420457</td>\n",
       "      <td>500.500000</td>\n",
       "      <td>3495.475739</td>\n",
       "    </tr>\n",
       "    <tr>\n",
       "      <th>std</th>\n",
       "      <td>3.042652e+11</td>\n",
       "      <td>2.176138</td>\n",
       "      <td>3.787902</td>\n",
       "      <td>3.079738</td>\n",
       "      <td>8732.973117</td>\n",
       "      <td>9418.044108</td>\n",
       "      <td>82.735099</td>\n",
       "      <td>0.598991</td>\n",
       "      <td>0.0</td>\n",
       "      <td>2.645046</td>\n",
       "      <td>288.819436</td>\n",
       "      <td>5919.880317</td>\n",
       "    </tr>\n",
       "    <tr>\n",
       "      <th>min</th>\n",
       "      <td>5.000003e+03</td>\n",
       "      <td>0.000000</td>\n",
       "      <td>0.014000</td>\n",
       "      <td>0.014000</td>\n",
       "      <td>10201.000000</td>\n",
       "      <td>10201.000000</td>\n",
       "      <td>301.000000</td>\n",
       "      <td>0.000000</td>\n",
       "      <td>99.0</td>\n",
       "      <td>0.000000</td>\n",
       "      <td>1.000000</td>\n",
       "      <td>16.386137</td>\n",
       "    </tr>\n",
       "    <tr>\n",
       "      <th>25%</th>\n",
       "      <td>5.767760e+09</td>\n",
       "      <td>0.000000</td>\n",
       "      <td>0.255250</td>\n",
       "      <td>0.230750</td>\n",
       "      <td>41553.000000</td>\n",
       "      <td>41553.000000</td>\n",
       "      <td>415.000000</td>\n",
       "      <td>0.000000</td>\n",
       "      <td>99.0</td>\n",
       "      <td>0.066000</td>\n",
       "      <td>250.750000</td>\n",
       "      <td>389.594507</td>\n",
       "    </tr>\n",
       "    <tr>\n",
       "      <th>50%</th>\n",
       "      <td>1.241351e+10</td>\n",
       "      <td>0.000000</td>\n",
       "      <td>0.936500</td>\n",
       "      <td>0.800000</td>\n",
       "      <td>51651.000000</td>\n",
       "      <td>51651.000000</td>\n",
       "      <td>516.000000</td>\n",
       "      <td>0.000000</td>\n",
       "      <td>99.0</td>\n",
       "      <td>0.449000</td>\n",
       "      <td>500.500000</td>\n",
       "      <td>1312.074136</td>\n",
       "    </tr>\n",
       "    <tr>\n",
       "      <th>75%</th>\n",
       "      <td>3.231783e+11</td>\n",
       "      <td>0.000000</td>\n",
       "      <td>2.631250</td>\n",
       "      <td>2.291750</td>\n",
       "      <td>51652.000000</td>\n",
       "      <td>51652.000000</td>\n",
       "      <td>516.000000</td>\n",
       "      <td>1.000000</td>\n",
       "      <td>99.0</td>\n",
       "      <td>1.520750</td>\n",
       "      <td>750.250000</td>\n",
       "      <td>3871.901408</td>\n",
       "    </tr>\n",
       "    <tr>\n",
       "      <th>max</th>\n",
       "      <td>1.845510e+12</td>\n",
       "      <td>45.920000</td>\n",
       "      <td>47.220000</td>\n",
       "      <td>27.492000</td>\n",
       "      <td>80813.000000</td>\n",
       "      <td>80813.000000</td>\n",
       "      <td>808.000000</td>\n",
       "      <td>3.000000</td>\n",
       "      <td>99.0</td>\n",
       "      <td>27.777000</td>\n",
       "      <td>1000.000000</td>\n",
       "      <td>60250.113985</td>\n",
       "    </tr>\n",
       "  </tbody>\n",
       "</table>\n",
       "</div>"
      ],
      "text/plain": [
       "           TRAIL_CN          BMP          EMP  SEGMENT_LENGTH     ADMIN_ORG  \\\n",
       "count  1.000000e+03  1000.000000  1000.000000     1000.000000   1000.000000   \n",
       "mean   2.254884e+11     0.340454     2.268812        1.928358  45857.877000   \n",
       "std    3.042652e+11     2.176138     3.787902        3.079738   8732.973117   \n",
       "min    5.000003e+03     0.000000     0.014000        0.014000  10201.000000   \n",
       "25%    5.767760e+09     0.000000     0.255250        0.230750  41553.000000   \n",
       "50%    1.241351e+10     0.000000     0.936500        0.800000  51651.000000   \n",
       "75%    3.231783e+11     0.000000     2.631250        2.291750  51652.000000   \n",
       "max    1.845510e+12    45.920000    47.220000       27.492000  80813.000000   \n",
       "\n",
       "       MANAGING_ORG  SECURITY_ID  NATIONAL_TRAIL_DESIGNATION  MVUM_SYMBOL  \\\n",
       "count   1000.000000  1000.000000                 1000.000000       1000.0   \n",
       "mean   45545.443000   460.022000                    0.413000         99.0   \n",
       "std     9418.044108    82.735099                    0.598991          0.0   \n",
       "min    10201.000000   301.000000                    0.000000         99.0   \n",
       "25%    41553.000000   415.000000                    0.000000         99.0   \n",
       "50%    51651.000000   516.000000                    0.000000         99.0   \n",
       "75%    51652.000000   516.000000                    1.000000         99.0   \n",
       "max    80813.000000   808.000000                    3.000000         99.0   \n",
       "\n",
       "         GIS_MILES     OBJECTID  SHAPE_Length  \n",
       "count  1000.000000  1000.000000    846.000000  \n",
       "mean      1.420457   500.500000   3495.475739  \n",
       "std       2.645046   288.819436   5919.880317  \n",
       "min       0.000000     1.000000     16.386137  \n",
       "25%       0.066000   250.750000    389.594507  \n",
       "50%       0.449000   500.500000   1312.074136  \n",
       "75%       1.520750   750.250000   3871.901408  \n",
       "max      27.777000  1000.000000  60250.113985  "
      ]
     },
     "execution_count": 5,
     "metadata": {},
     "output_type": "execute_result"
    }
   ],
   "source": [
    "df_suf.describe()"
   ]
  },
  {
   "cell_type": "code",
   "execution_count": 6,
   "metadata": {},
   "outputs": [
    {
     "name": "stdout",
     "output_type": "stream",
     "text": [
      "<class 'pandas.core.frame.DataFrame'>\n",
      "RangeIndex: 1000 entries, 0 to 999\n",
      "Data columns (total 18 columns):\n",
      "TRAIL_NO                      1000 non-null object\n",
      "TRAIL_NAME                    764 non-null object\n",
      "TRAIL_TYPE                    1000 non-null object\n",
      "TRAIL_CN                      1000 non-null float64\n",
      "BMP                           1000 non-null float64\n",
      "EMP                           1000 non-null float64\n",
      "SEGMENT_LENGTH                1000 non-null float64\n",
      "ADMIN_ORG                     1000 non-null int64\n",
      "MANAGING_ORG                  1000 non-null int64\n",
      "SECURITY_ID                   1000 non-null int64\n",
      "ATTRIBUTESUBSET               1000 non-null object\n",
      "NATIONAL_TRAIL_DESIGNATION    1000 non-null int64\n",
      "TRAIL_CLASS                   1000 non-null object\n",
      "TERRA_BASE_SYMBOLOGY          963 non-null object\n",
      "MVUM_SYMBOL                   1000 non-null int64\n",
      "GIS_MILES                     1000 non-null float64\n",
      "OBJECTID                      1000 non-null int64\n",
      "SHAPE_Length                  846 non-null float64\n",
      "dtypes: float64(6), int64(6), object(6)\n",
      "memory usage: 140.7+ KB\n"
     ]
    }
   ],
   "source": [
    "df_suf.info()"
   ]
  },
  {
   "cell_type": "code",
   "execution_count": 7,
   "metadata": {},
   "outputs": [
    {
     "data": {
      "text/plain": [
       "<seaborn.axisgrid.FacetGrid at 0x7faba6d7def0>"
      ]
     },
     "execution_count": 7,
     "metadata": {},
     "output_type": "execute_result"
    },
    {
     "data": {
      "image/png": "[encoded data removed]",
      "text/plain": [
       "<Figure size 1296x216 with 6 Axes>"
      ]
     },
     "metadata": {},
     "output_type": "display_data"
    }
   ],
   "source": [
    "g = sns.FacetGrid(df_suf, row=None, col='TRAIL_CLASS')\n",
    "g.map(plt.scatter, 'TRAIL_NO', 'GIS_MILES', alpha=.5)"
   ]
  },
  {
   "cell_type": "code",
   "execution_count": 8,
   "metadata": {},
   "outputs": [
    {
     "data": {
      "text/html": [
       "<div>\n",
       "<style scoped>\n",
       "    .dataframe tbody tr th:only-of-type {\n",
       "        vertical-align: middle;\n",
       "    }\n",
       "\n",
       "    .dataframe tbody tr th {\n",
       "        vertical-align: top;\n",
       "    }\n",
       "\n",
       "    .dataframe thead th {\n",
       "        text-align: right;\n",
       "    }\n",
       "</style>\n",
       "<table border=\"1\" class=\"dataframe\">\n",
       "  <thead>\n",
       "    <tr style=\"text-align: right;\">\n",
       "      <th></th>\n",
       "      <th>TRAIL_NO COUNT</th>\n",
       "    </tr>\n",
       "    <tr>\n",
       "      <th>TRAIL_CLASS</th>\n",
       "      <th></th>\n",
       "    </tr>\n",
       "  </thead>\n",
       "  <tbody>\n",
       "    <tr>\n",
       "      <th>1</th>\n",
       "      <td>15</td>\n",
       "    </tr>\n",
       "    <tr>\n",
       "      <th>2</th>\n",
       "      <td>180</td>\n",
       "    </tr>\n",
       "    <tr>\n",
       "      <th>3</th>\n",
       "      <td>128</td>\n",
       "    </tr>\n",
       "    <tr>\n",
       "      <th>4</th>\n",
       "      <td>47</td>\n",
       "    </tr>\n",
       "    <tr>\n",
       "      <th>5</th>\n",
       "      <td>4</td>\n",
       "    </tr>\n",
       "    <tr>\n",
       "      <th>N</th>\n",
       "      <td>626</td>\n",
       "    </tr>\n",
       "  </tbody>\n",
       "</table>\n",
       "</div>"
      ],
      "text/plain": [
       "             TRAIL_NO COUNT\n",
       "TRAIL_CLASS                \n",
       "1                        15\n",
       "2                       180\n",
       "3                       128\n",
       "4                        47\n",
       "5                         4\n",
       "N                       626"
      ]
     },
     "execution_count": 8,
     "metadata": {},
     "output_type": "execute_result"
    }
   ],
   "source": [
    "df_suf.groupby(by=df_suf['TRAIL_CLASS'])[['TRAIL_NO']].count().rename(index=str, columns={'TRAIL_NO': 'TRAIL_NO COUNT'})"
   ]
  },
  {
   "cell_type": "code",
   "execution_count": 9,
   "metadata": {},
   "outputs": [
    {
     "data": {
      "text/plain": [
       "count                    764\n",
       "unique                   597\n",
       "top       CONTINENTAL DIVIDE\n",
       "freq                      19\n",
       "Name: TRAIL_NAME, dtype: object"
      ]
     },
     "execution_count": 9,
     "metadata": {},
     "output_type": "execute_result"
    }
   ],
   "source": [
    "df_suf['TRAIL_NAME'].describe()"
   ]
  },
  {
   "cell_type": "markdown",
   "metadata": {},
   "source": [
    "Look at trails with repeated names"
   ]
  },
  {
   "cell_type": "code",
   "execution_count": 10,
   "metadata": {},
   "outputs": [
    {
     "data": {
      "text/html": [
       "<div>\n",
       "<style scoped>\n",
       "    .dataframe tbody tr th:only-of-type {\n",
       "        vertical-align: middle;\n",
       "    }\n",
       "\n",
       "    .dataframe tbody tr th {\n",
       "        vertical-align: top;\n",
       "    }\n",
       "\n",
       "    .dataframe thead th {\n",
       "        text-align: right;\n",
       "    }\n",
       "</style>\n",
       "<table border=\"1\" class=\"dataframe\">\n",
       "  <thead>\n",
       "    <tr style=\"text-align: right;\">\n",
       "      <th></th>\n",
       "      <th>TRAIL_NO</th>\n",
       "      <th>TRAIL_NAME</th>\n",
       "      <th>TRAIL_TYPE</th>\n",
       "      <th>TRAIL_CN</th>\n",
       "      <th>BMP</th>\n",
       "      <th>EMP</th>\n",
       "      <th>SEGMENT_LENGTH</th>\n",
       "      <th>ADMIN_ORG</th>\n",
       "      <th>MANAGING_ORG</th>\n",
       "      <th>SECURITY_ID</th>\n",
       "      <th>ATTRIBUTESUBSET</th>\n",
       "      <th>NATIONAL_TRAIL_DESIGNATION</th>\n",
       "      <th>TRAIL_CLASS</th>\n",
       "      <th>TERRA_BASE_SYMBOLOGY</th>\n",
       "      <th>MVUM_SYMBOL</th>\n",
       "      <th>GIS_MILES</th>\n",
       "      <th>OBJECTID</th>\n",
       "      <th>SHAPE_Length</th>\n",
       "    </tr>\n",
       "  </thead>\n",
       "  <tbody>\n",
       "    <tr>\n",
       "      <th>50</th>\n",
       "      <td>16EV233</td>\n",
       "      <td>TWAIN HARTE OHV-M/C</td>\n",
       "      <td>TERRA</td>\n",
       "      <td>6.231010e+09</td>\n",
       "      <td>0.0</td>\n",
       "      <td>0.090</td>\n",
       "      <td>0.090</td>\n",
       "      <td>51651</td>\n",
       "      <td>51651</td>\n",
       "      <td>516</td>\n",
       "      <td>TrailNFS_Centerline</td>\n",
       "      <td>0</td>\n",
       "      <td>N</td>\n",
       "      <td>TC1-2</td>\n",
       "      <td>99</td>\n",
       "      <td>0.093</td>\n",
       "      <td>51</td>\n",
       "      <td>183.567928</td>\n",
       "    </tr>\n",
       "    <tr>\n",
       "      <th>61</th>\n",
       "      <td>16EV236</td>\n",
       "      <td>TWAIN HARTE OHV-M/C</td>\n",
       "      <td>TERRA</td>\n",
       "      <td>6.234010e+09</td>\n",
       "      <td>0.0</td>\n",
       "      <td>0.956</td>\n",
       "      <td>0.956</td>\n",
       "      <td>51651</td>\n",
       "      <td>51651</td>\n",
       "      <td>516</td>\n",
       "      <td>TrailNFS_Centerline</td>\n",
       "      <td>0</td>\n",
       "      <td>N</td>\n",
       "      <td>TC1-2</td>\n",
       "      <td>99</td>\n",
       "      <td>0.968</td>\n",
       "      <td>62</td>\n",
       "      <td>1956.728882</td>\n",
       "    </tr>\n",
       "    <tr>\n",
       "      <th>63</th>\n",
       "      <td>16EV248</td>\n",
       "      <td>TWAIN HARTE OHV-M/C</td>\n",
       "      <td>TERRA</td>\n",
       "      <td>7.849350e+11</td>\n",
       "      <td>0.0</td>\n",
       "      <td>0.928</td>\n",
       "      <td>0.928</td>\n",
       "      <td>51651</td>\n",
       "      <td>51651</td>\n",
       "      <td>516</td>\n",
       "      <td>TrailNFS_Centerline</td>\n",
       "      <td>0</td>\n",
       "      <td>N</td>\n",
       "      <td>TC1-2</td>\n",
       "      <td>99</td>\n",
       "      <td>0.947</td>\n",
       "      <td>64</td>\n",
       "      <td>1899.225584</td>\n",
       "    </tr>\n",
       "    <tr>\n",
       "      <th>67</th>\n",
       "      <td>16EV106</td>\n",
       "      <td>TWAIN HARTE OHV-M/C</td>\n",
       "      <td>TERRA</td>\n",
       "      <td>7.848830e+11</td>\n",
       "      <td>0.0</td>\n",
       "      <td>1.496</td>\n",
       "      <td>1.496</td>\n",
       "      <td>51651</td>\n",
       "      <td>51651</td>\n",
       "      <td>516</td>\n",
       "      <td>TrailNFS_Centerline</td>\n",
       "      <td>0</td>\n",
       "      <td>N</td>\n",
       "      <td>TC1-2</td>\n",
       "      <td>99</td>\n",
       "      <td>1.507</td>\n",
       "      <td>68</td>\n",
       "      <td>3061.677237</td>\n",
       "    </tr>\n",
       "    <tr>\n",
       "      <th>297</th>\n",
       "      <td>16EV269</td>\n",
       "      <td>TWAIN HARTE OHV-M/C</td>\n",
       "      <td>TERRA</td>\n",
       "      <td>6.240010e+09</td>\n",
       "      <td>0.0</td>\n",
       "      <td>0.223</td>\n",
       "      <td>0.223</td>\n",
       "      <td>51651</td>\n",
       "      <td>51651</td>\n",
       "      <td>516</td>\n",
       "      <td>TrailNFS_Centerline</td>\n",
       "      <td>0</td>\n",
       "      <td>N</td>\n",
       "      <td>TC1-2</td>\n",
       "      <td>99</td>\n",
       "      <td>0.233</td>\n",
       "      <td>298</td>\n",
       "      <td>455.695464</td>\n",
       "    </tr>\n",
       "  </tbody>\n",
       "</table>\n",
       "</div>"
      ],
      "text/plain": [
       "    TRAIL_NO           TRAIL_NAME TRAIL_TYPE      TRAIL_CN  BMP    EMP  \\\n",
       "50   16EV233  TWAIN HARTE OHV-M/C      TERRA  6.231010e+09  0.0  0.090   \n",
       "61   16EV236  TWAIN HARTE OHV-M/C      TERRA  6.234010e+09  0.0  0.956   \n",
       "63   16EV248  TWAIN HARTE OHV-M/C      TERRA  7.849350e+11  0.0  0.928   \n",
       "67   16EV106  TWAIN HARTE OHV-M/C      TERRA  7.848830e+11  0.0  1.496   \n",
       "297  16EV269  TWAIN HARTE OHV-M/C      TERRA  6.240010e+09  0.0  0.223   \n",
       "\n",
       "     SEGMENT_LENGTH  ADMIN_ORG  MANAGING_ORG  SECURITY_ID  \\\n",
       "50            0.090      51651         51651          516   \n",
       "61            0.956      51651         51651          516   \n",
       "63            0.928      51651         51651          516   \n",
       "67            1.496      51651         51651          516   \n",
       "297           0.223      51651         51651          516   \n",
       "\n",
       "         ATTRIBUTESUBSET  NATIONAL_TRAIL_DESIGNATION TRAIL_CLASS  \\\n",
       "50   TrailNFS_Centerline                           0           N   \n",
       "61   TrailNFS_Centerline                           0           N   \n",
       "63   TrailNFS_Centerline                           0           N   \n",
       "67   TrailNFS_Centerline                           0           N   \n",
       "297  TrailNFS_Centerline                           0           N   \n",
       "\n",
       "    TERRA_BASE_SYMBOLOGY  MVUM_SYMBOL  GIS_MILES  OBJECTID  SHAPE_Length  \n",
       "50                 TC1-2           99      0.093        51    183.567928  \n",
       "61                 TC1-2           99      0.968        62   1956.728882  \n",
       "63                 TC1-2           99      0.947        64   1899.225584  \n",
       "67                 TC1-2           99      1.507        68   3061.677237  \n",
       "297                TC1-2           99      0.233       298    455.695464  "
      ]
     },
     "execution_count": 10,
     "metadata": {},
     "output_type": "execute_result"
    }
   ],
   "source": [
    "df_suf[df_suf['TRAIL_NAME'] == 'TWAIN HARTE OHV-M/C'].head()"
   ]
  },
  {
   "cell_type": "code",
   "execution_count": 11,
   "metadata": {},
   "outputs": [
    {
     "data": {
      "text/html": [
       "<div>\n",
       "<style scoped>\n",
       "    .dataframe tbody tr th:only-of-type {\n",
       "        vertical-align: middle;\n",
       "    }\n",
       "\n",
       "    .dataframe tbody tr th {\n",
       "        vertical-align: top;\n",
       "    }\n",
       "\n",
       "    .dataframe thead th {\n",
       "        text-align: right;\n",
       "    }\n",
       "</style>\n",
       "<table border=\"1\" class=\"dataframe\">\n",
       "  <thead>\n",
       "    <tr style=\"text-align: right;\">\n",
       "      <th></th>\n",
       "      <th>TRAIL_NO COUNT</th>\n",
       "    </tr>\n",
       "    <tr>\n",
       "      <th>TRAIL_NAME</th>\n",
       "      <th></th>\n",
       "    </tr>\n",
       "  </thead>\n",
       "  <tbody>\n",
       "    <tr>\n",
       "      <th>TWAIN HARTE OHV-M/C</th>\n",
       "      <td>19</td>\n",
       "    </tr>\n",
       "    <tr>\n",
       "      <th>CONTINENTAL DIVIDE</th>\n",
       "      <td>19</td>\n",
       "    </tr>\n",
       "    <tr>\n",
       "      <th>CRANDALL PK OHV-M/C</th>\n",
       "      <td>14</td>\n",
       "    </tr>\n",
       "    <tr>\n",
       "      <th>HULL CREEK OHV - ATV</th>\n",
       "      <td>13</td>\n",
       "    </tr>\n",
       "    <tr>\n",
       "      <th>LANDER TRAIL-TERRACE CANYON</th>\n",
       "      <td>9</td>\n",
       "    </tr>\n",
       "  </tbody>\n",
       "</table>\n",
       "</div>"
      ],
      "text/plain": [
       "                             TRAIL_NO COUNT\n",
       "TRAIL_NAME                                 \n",
       "TWAIN HARTE OHV-M/C                      19\n",
       "CONTINENTAL DIVIDE                       19\n",
       "CRANDALL PK OHV-M/C                      14\n",
       "HULL CREEK OHV - ATV                     13\n",
       "LANDER TRAIL-TERRACE CANYON               9"
      ]
     },
     "execution_count": 11,
     "metadata": {},
     "output_type": "execute_result"
    }
   ],
   "source": [
    "df_name_count = df_suf.groupby(by=df_suf['TRAIL_NAME'])[['TRAIL_NO']].count().rename(index=str, columns={'TRAIL_NO': 'TRAIL_NO COUNT'})\n",
    "df_name_count[df_name_count['TRAIL_NO COUNT'] > 1].sort_values(by='TRAIL_NO COUNT', ascending=False).head()\n",
    "# df_name_count[df_name_count['TRAIL_NO COUNT'] == 1].sort_values(by='TRAIL_NO COUNT', ascending=False).count()"
   ]
  },
  {
   "cell_type": "markdown",
   "metadata": {},
   "source": [
    "535 trails appear once in df  \n",
    "62 trails appear more than once, 38 of which appear twice"
   ]
  },
  {
   "cell_type": "code",
   "execution_count": 12,
   "metadata": {},
   "outputs": [
    {
     "data": {
      "text/plain": [
       "1     535\n",
       "2      38\n",
       "3       8\n",
       "5       4\n",
       "4       4\n",
       "19      2\n",
       "6       2\n",
       "14      1\n",
       "13      1\n",
       "9       1\n",
       "7       1\n",
       "Name: TRAIL_NO COUNT, dtype: int64"
      ]
     },
     "execution_count": 12,
     "metadata": {},
     "output_type": "execute_result"
    }
   ],
   "source": [
    "# df_name_count.describe()\n",
    "# df_name_count.groupby(by='TRAIL_NO COUNT').count()\n",
    "df_name_count['TRAIL_NO COUNT'].value_counts()"
   ]
  },
  {
   "cell_type": "code",
   "execution_count": 13,
   "metadata": {},
   "outputs": [
    {
     "data": {
      "text/html": [
       "<div>\n",
       "<style scoped>\n",
       "    .dataframe tbody tr th:only-of-type {\n",
       "        vertical-align: middle;\n",
       "    }\n",
       "\n",
       "    .dataframe tbody tr th {\n",
       "        vertical-align: top;\n",
       "    }\n",
       "\n",
       "    .dataframe thead th {\n",
       "        text-align: right;\n",
       "    }\n",
       "</style>\n",
       "<table border=\"1\" class=\"dataframe\">\n",
       "  <thead>\n",
       "    <tr style=\"text-align: right;\">\n",
       "      <th></th>\n",
       "      <th>TRAIL_NO COUNT</th>\n",
       "    </tr>\n",
       "    <tr>\n",
       "      <th>TRAIL_NAME</th>\n",
       "      <th></th>\n",
       "    </tr>\n",
       "  </thead>\n",
       "  <tbody>\n",
       "    <tr>\n",
       "      <th>CONTINENTAL DIVIDE</th>\n",
       "      <td>19</td>\n",
       "    </tr>\n",
       "    <tr>\n",
       "      <th>CRANDALL PK OHV-M/C</th>\n",
       "      <td>14</td>\n",
       "    </tr>\n",
       "    <tr>\n",
       "      <th>HULL CREEK OHV - ATV</th>\n",
       "      <td>13</td>\n",
       "    </tr>\n",
       "    <tr>\n",
       "      <th>TWAIN HARTE OHV-M/C</th>\n",
       "      <td>19</td>\n",
       "    </tr>\n",
       "  </tbody>\n",
       "</table>\n",
       "</div>"
      ],
      "text/plain": [
       "                      TRAIL_NO COUNT\n",
       "TRAIL_NAME                          \n",
       "CONTINENTAL DIVIDE                19\n",
       "CRANDALL PK OHV-M/C               14\n",
       "HULL CREEK OHV - ATV              13\n",
       "TWAIN HARTE OHV-M/C               19"
      ]
     },
     "execution_count": 13,
     "metadata": {},
     "output_type": "execute_result"
    }
   ],
   "source": [
    "df_name_count[df_name_count['TRAIL_NO COUNT'] > 10]"
   ]
  },
  {
   "cell_type": "markdown",
   "metadata": {},
   "source": [
    "There are two trails starting with CONTINENTAL: CONTINENTAL DIVIDE and CONTINENTAL DIVIDE TRAIL"
   ]
  },
  {
   "cell_type": "code",
   "execution_count": 14,
   "metadata": {},
   "outputs": [
    {
     "data": {
      "text/html": [
       "<div>\n",
       "<style scoped>\n",
       "    .dataframe tbody tr th:only-of-type {\n",
       "        vertical-align: middle;\n",
       "    }\n",
       "\n",
       "    .dataframe tbody tr th {\n",
       "        vertical-align: top;\n",
       "    }\n",
       "\n",
       "    .dataframe thead th {\n",
       "        text-align: right;\n",
       "    }\n",
       "</style>\n",
       "<table border=\"1\" class=\"dataframe\">\n",
       "  <thead>\n",
       "    <tr style=\"text-align: right;\">\n",
       "      <th></th>\n",
       "      <th>TRAIL_NO</th>\n",
       "      <th>TRAIL_NAME</th>\n",
       "      <th>TRAIL_TYPE</th>\n",
       "      <th>TRAIL_CN</th>\n",
       "      <th>BMP</th>\n",
       "      <th>EMP</th>\n",
       "      <th>SEGMENT_LENGTH</th>\n",
       "      <th>ADMIN_ORG</th>\n",
       "      <th>MANAGING_ORG</th>\n",
       "      <th>SECURITY_ID</th>\n",
       "      <th>ATTRIBUTESUBSET</th>\n",
       "      <th>NATIONAL_TRAIL_DESIGNATION</th>\n",
       "      <th>TRAIL_CLASS</th>\n",
       "      <th>TERRA_BASE_SYMBOLOGY</th>\n",
       "      <th>MVUM_SYMBOL</th>\n",
       "      <th>GIS_MILES</th>\n",
       "      <th>OBJECTID</th>\n",
       "      <th>SHAPE_Length</th>\n",
       "    </tr>\n",
       "  </thead>\n",
       "  <tbody>\n",
       "    <tr>\n",
       "      <th>632</th>\n",
       "      <td>2004A</td>\n",
       "      <td>CONTINENTAL DIVIDE TRAIL</td>\n",
       "      <td>TERRA</td>\n",
       "      <td>6.934540e+11</td>\n",
       "      <td>0.0</td>\n",
       "      <td>20.172</td>\n",
       "      <td>20.172</td>\n",
       "      <td>41552</td>\n",
       "      <td>41552</td>\n",
       "      <td>415</td>\n",
       "      <td>TrailNFS_Basic</td>\n",
       "      <td>1</td>\n",
       "      <td>3</td>\n",
       "      <td>TC3</td>\n",
       "      <td>99</td>\n",
       "      <td>20.158</td>\n",
       "      <td>633</td>\n",
       "      <td>45512.526454</td>\n",
       "    </tr>\n",
       "    <tr>\n",
       "      <th>689</th>\n",
       "      <td>2004G</td>\n",
       "      <td>CONTINENTAL DIVIDE TRAIL</td>\n",
       "      <td>TERRA</td>\n",
       "      <td>6.934820e+11</td>\n",
       "      <td>0.0</td>\n",
       "      <td>17.513</td>\n",
       "      <td>17.513</td>\n",
       "      <td>41552</td>\n",
       "      <td>41552</td>\n",
       "      <td>415</td>\n",
       "      <td>TrailNFS_Basic</td>\n",
       "      <td>1</td>\n",
       "      <td>3</td>\n",
       "      <td>TC3</td>\n",
       "      <td>99</td>\n",
       "      <td>17.181</td>\n",
       "      <td>690</td>\n",
       "      <td>39532.266142</td>\n",
       "    </tr>\n",
       "    <tr>\n",
       "      <th>693</th>\n",
       "      <td>2004E</td>\n",
       "      <td>CONTINENTAL DIVIDE TRAIL</td>\n",
       "      <td>TERRA</td>\n",
       "      <td>6.934770e+11</td>\n",
       "      <td>0.0</td>\n",
       "      <td>9.973</td>\n",
       "      <td>9.973</td>\n",
       "      <td>41552</td>\n",
       "      <td>41552</td>\n",
       "      <td>415</td>\n",
       "      <td>TrailNFS_Basic</td>\n",
       "      <td>1</td>\n",
       "      <td>3</td>\n",
       "      <td>TC3</td>\n",
       "      <td>99</td>\n",
       "      <td>10.220</td>\n",
       "      <td>694</td>\n",
       "      <td>22585.113068</td>\n",
       "    </tr>\n",
       "    <tr>\n",
       "      <th>696</th>\n",
       "      <td>2004B</td>\n",
       "      <td>CONTINENTAL DIVIDE TRAIL</td>\n",
       "      <td>TERRA</td>\n",
       "      <td>6.934740e+11</td>\n",
       "      <td>0.0</td>\n",
       "      <td>2.867</td>\n",
       "      <td>2.867</td>\n",
       "      <td>41552</td>\n",
       "      <td>41552</td>\n",
       "      <td>415</td>\n",
       "      <td>TrailNFS_Basic</td>\n",
       "      <td>1</td>\n",
       "      <td>3</td>\n",
       "      <td>TC3</td>\n",
       "      <td>99</td>\n",
       "      <td>2.909</td>\n",
       "      <td>697</td>\n",
       "      <td>6494.605043</td>\n",
       "    </tr>\n",
       "    <tr>\n",
       "      <th>739</th>\n",
       "      <td>2004C</td>\n",
       "      <td>CONTINENTAL DIVIDE TRAIL</td>\n",
       "      <td>TERRA</td>\n",
       "      <td>6.934750e+11</td>\n",
       "      <td>0.0</td>\n",
       "      <td>4.182</td>\n",
       "      <td>4.182</td>\n",
       "      <td>41552</td>\n",
       "      <td>41552</td>\n",
       "      <td>415</td>\n",
       "      <td>TrailNFS_Basic</td>\n",
       "      <td>1</td>\n",
       "      <td>3</td>\n",
       "      <td>TC3</td>\n",
       "      <td>99</td>\n",
       "      <td>4.198</td>\n",
       "      <td>740</td>\n",
       "      <td>9476.655678</td>\n",
       "    </tr>\n",
       "    <tr>\n",
       "      <th>754</th>\n",
       "      <td>2004F</td>\n",
       "      <td>CONTINENTAL DIVIDE TRAIL</td>\n",
       "      <td>TERRA</td>\n",
       "      <td>6.934800e+11</td>\n",
       "      <td>0.0</td>\n",
       "      <td>0.243</td>\n",
       "      <td>0.243</td>\n",
       "      <td>41552</td>\n",
       "      <td>41552</td>\n",
       "      <td>415</td>\n",
       "      <td>TrailNFS_Basic</td>\n",
       "      <td>1</td>\n",
       "      <td>3</td>\n",
       "      <td>TC3</td>\n",
       "      <td>99</td>\n",
       "      <td>0.242</td>\n",
       "      <td>755</td>\n",
       "      <td>550.014012</td>\n",
       "    </tr>\n",
       "    <tr>\n",
       "      <th>755</th>\n",
       "      <td>2004D</td>\n",
       "      <td>CONTINENTAL DIVIDE TRAIL</td>\n",
       "      <td>TERRA</td>\n",
       "      <td>6.934760e+11</td>\n",
       "      <td>0.0</td>\n",
       "      <td>0.737</td>\n",
       "      <td>0.737</td>\n",
       "      <td>41552</td>\n",
       "      <td>41552</td>\n",
       "      <td>415</td>\n",
       "      <td>TrailNFS_Basic</td>\n",
       "      <td>1</td>\n",
       "      <td>3</td>\n",
       "      <td>TC3</td>\n",
       "      <td>99</td>\n",
       "      <td>0.722</td>\n",
       "      <td>756</td>\n",
       "      <td>1667.485066</td>\n",
       "    </tr>\n",
       "  </tbody>\n",
       "</table>\n",
       "</div>"
      ],
      "text/plain": [
       "    TRAIL_NO                TRAIL_NAME TRAIL_TYPE      TRAIL_CN  BMP     EMP  \\\n",
       "632    2004A  CONTINENTAL DIVIDE TRAIL      TERRA  6.934540e+11  0.0  20.172   \n",
       "689    2004G  CONTINENTAL DIVIDE TRAIL      TERRA  6.934820e+11  0.0  17.513   \n",
       "693    2004E  CONTINENTAL DIVIDE TRAIL      TERRA  6.934770e+11  0.0   9.973   \n",
       "696    2004B  CONTINENTAL DIVIDE TRAIL      TERRA  6.934740e+11  0.0   2.867   \n",
       "739    2004C  CONTINENTAL DIVIDE TRAIL      TERRA  6.934750e+11  0.0   4.182   \n",
       "754    2004F  CONTINENTAL DIVIDE TRAIL      TERRA  6.934800e+11  0.0   0.243   \n",
       "755    2004D  CONTINENTAL DIVIDE TRAIL      TERRA  6.934760e+11  0.0   0.737   \n",
       "\n",
       "     SEGMENT_LENGTH  ADMIN_ORG  MANAGING_ORG  SECURITY_ID ATTRIBUTESUBSET  \\\n",
       "632          20.172      41552         41552          415  TrailNFS_Basic   \n",
       "689          17.513      41552         41552          415  TrailNFS_Basic   \n",
       "693           9.973      41552         41552          415  TrailNFS_Basic   \n",
       "696           2.867      41552         41552          415  TrailNFS_Basic   \n",
       "739           4.182      41552         41552          415  TrailNFS_Basic   \n",
       "754           0.243      41552         41552          415  TrailNFS_Basic   \n",
       "755           0.737      41552         41552          415  TrailNFS_Basic   \n",
       "\n",
       "     NATIONAL_TRAIL_DESIGNATION TRAIL_CLASS TERRA_BASE_SYMBOLOGY  MVUM_SYMBOL  \\\n",
       "632                           1           3                  TC3           99   \n",
       "689                           1           3                  TC3           99   \n",
       "693                           1           3                  TC3           99   \n",
       "696                           1           3                  TC3           99   \n",
       "739                           1           3                  TC3           99   \n",
       "754                           1           3                  TC3           99   \n",
       "755                           1           3                  TC3           99   \n",
       "\n",
       "     GIS_MILES  OBJECTID  SHAPE_Length  \n",
       "632     20.158       633  45512.526454  \n",
       "689     17.181       690  39532.266142  \n",
       "693     10.220       694  22585.113068  \n",
       "696      2.909       697   6494.605043  \n",
       "739      4.198       740   9476.655678  \n",
       "754      0.242       755    550.014012  \n",
       "755      0.722       756   1667.485066  "
      ]
     },
     "execution_count": 14,
     "metadata": {},
     "output_type": "execute_result"
    }
   ],
   "source": [
    "# df_suf[df_suf['TRAIL_NAME'].str.contains(r'^CONTINENTAL', regex=True, na=False)]\n",
    "df_suf[df_suf['TRAIL_NAME'].str.contains(r'CONTINENTAL DIVIDE TRAIL', regex=True, na=False)]\n",
    "# df_suf[df_suf['TRAIL_NAME'].str.contains(r'CONTINENTAL DIVIDE$', regex=True, na=False)]"
   ]
  },
  {
   "cell_type": "markdown",
   "metadata": {},
   "source": [
    "All CONTINENTAL DIVIDE trails have TRAIL_NO 1004A, C, D, or E  \n",
    "All CONTINENTAL DIVIDE trails have TRAIL_NO 2004A-G  \n",
    "#### Hypothesis  \n",
    "TRAIL_NO numberical component corresponds to unique trail  \n",
    "* For some trails the alphabetical component corresponds to trail sections?\n",
    "* Decompose TRAIL_NO into numeric and alphabetic components to verify"
   ]
  },
  {
   "cell_type": "code",
   "execution_count": 15,
   "metadata": {},
   "outputs": [
    {
     "data": {
      "text/html": [
       "<div>\n",
       "<style scoped>\n",
       "    .dataframe tbody tr th:only-of-type {\n",
       "        vertical-align: middle;\n",
       "    }\n",
       "\n",
       "    .dataframe tbody tr th {\n",
       "        vertical-align: top;\n",
       "    }\n",
       "\n",
       "    .dataframe thead th {\n",
       "        text-align: right;\n",
       "    }\n",
       "</style>\n",
       "<table border=\"1\" class=\"dataframe\">\n",
       "  <thead>\n",
       "    <tr style=\"text-align: right;\">\n",
       "      <th></th>\n",
       "      <th>TRAIL_NO</th>\n",
       "      <th>TRAIL_NO_NUM</th>\n",
       "      <th>TRAIL_NO_ALP</th>\n",
       "    </tr>\n",
       "  </thead>\n",
       "  <tbody>\n",
       "    <tr>\n",
       "      <th>0</th>\n",
       "      <td>291</td>\n",
       "      <td>291</td>\n",
       "      <td></td>\n",
       "    </tr>\n",
       "    <tr>\n",
       "      <th>1</th>\n",
       "      <td>602C</td>\n",
       "      <td>602</td>\n",
       "      <td>C</td>\n",
       "    </tr>\n",
       "    <tr>\n",
       "      <th>2</th>\n",
       "      <td>648</td>\n",
       "      <td>648</td>\n",
       "      <td></td>\n",
       "    </tr>\n",
       "    <tr>\n",
       "      <th>3</th>\n",
       "      <td>107C</td>\n",
       "      <td>107</td>\n",
       "      <td>C</td>\n",
       "    </tr>\n",
       "    <tr>\n",
       "      <th>4</th>\n",
       "      <td>602G</td>\n",
       "      <td>602</td>\n",
       "      <td>G</td>\n",
       "    </tr>\n",
       "  </tbody>\n",
       "</table>\n",
       "</div>"
      ],
      "text/plain": [
       "  TRAIL_NO TRAIL_NO_NUM TRAIL_NO_ALP\n",
       "0      291          291             \n",
       "1     602C          602            C\n",
       "2      648          648             \n",
       "3     107C          107            C\n",
       "4     602G          602            G"
      ]
     },
     "execution_count": 15,
     "metadata": {},
     "output_type": "execute_result"
    }
   ],
   "source": [
    "trail_num = df['TRAIL_NO'].str.extract(r'(?P<TRAIL_NO_NUM>\\d*)[a-zA-Z]*$')\n",
    "trail_alp = df['TRAIL_NO'].str.extract(r'\\d*(?P<TRAIL_NO_ALP>[a-zA-Z]*)')\n",
    "# trail_parts = df['TRAIL_NO'].str.extract(r'[^\\d]*(?P<TRAIL_NO_NUM>\\d*)(?P<TRAIL_NO_ALP>[a-zA-Z]*$)')\n",
    "\n",
    "# Insert columns for numeric and alphabetic components\n",
    "# df.insert(1, 'TRAIL_NO_NUM', int)\n",
    "# df.insert(2, 'TRAIL_NO_ALP', str)\n",
    "# df['TRAIL_NO_NUM'] = trail_parts['TRAIL_NO_NUM']\n",
    "# df['TRAIL_NO_ALP'] = trail_parts['TRAIL_NO_ALP']\n",
    "df['TRAIL_NO_NUM'] = trail_num\n",
    "df['TRAIL_NO_ALP'] = trail_alp\n",
    "df[['TRAIL_NO', 'TRAIL_NO_NUM', 'TRAIL_NO_ALP']].head()"
   ]
  },
  {
   "cell_type": "markdown",
   "metadata": {},
   "source": [
    "Fill in missing values for TRAIL_NO_NUM where the regex fails because there is no alphabetic component  \n",
    "* CHECK  \n",
    "\n",
    "Correct values for TRAIL_NO_NUM where regex fails because TRAIL_NO is of the form \\d+\\[a-zA-Z]+\\d+  \n",
    "* Tried $ append  \n",
    "\n",
    "Correct values for TRAIL_NO_ALP where regex fails because alphabetic component is not captured  \n",
    "* Split into two extracts, one for the last numeric and one for alphabetic "
   ]
  },
  {
   "cell_type": "code",
   "execution_count": 16,
   "metadata": {},
   "outputs": [
    {
     "data": {
      "text/html": [
       "<div>\n",
       "<style scoped>\n",
       "    .dataframe tbody tr th:only-of-type {\n",
       "        vertical-align: middle;\n",
       "    }\n",
       "\n",
       "    .dataframe tbody tr th {\n",
       "        vertical-align: top;\n",
       "    }\n",
       "\n",
       "    .dataframe thead th {\n",
       "        text-align: right;\n",
       "    }\n",
       "</style>\n",
       "<table border=\"1\" class=\"dataframe\">\n",
       "  <thead>\n",
       "    <tr style=\"text-align: right;\">\n",
       "      <th></th>\n",
       "      <th>TRAIL_NO</th>\n",
       "      <th>TRAIL_NO_NUM</th>\n",
       "      <th>TRAIL_NO_ALP</th>\n",
       "    </tr>\n",
       "  </thead>\n",
       "  <tbody>\n",
       "    <tr>\n",
       "      <th>24</th>\n",
       "      <td>18EV412</td>\n",
       "      <td>412</td>\n",
       "      <td>EV</td>\n",
       "    </tr>\n",
       "    <tr>\n",
       "      <th>25</th>\n",
       "      <td>17EV401</td>\n",
       "      <td>401</td>\n",
       "      <td>EV</td>\n",
       "    </tr>\n",
       "    <tr>\n",
       "      <th>26</th>\n",
       "      <td>18EV409</td>\n",
       "      <td>409</td>\n",
       "      <td>EV</td>\n",
       "    </tr>\n",
       "    <tr>\n",
       "      <th>28</th>\n",
       "      <td>18EV408</td>\n",
       "      <td>408</td>\n",
       "      <td>EV</td>\n",
       "    </tr>\n",
       "    <tr>\n",
       "      <th>29</th>\n",
       "      <td>18EV420</td>\n",
       "      <td>420</td>\n",
       "      <td>EV</td>\n",
       "    </tr>\n",
       "  </tbody>\n",
       "</table>\n",
       "</div>"
      ],
      "text/plain": [
       "   TRAIL_NO TRAIL_NO_NUM TRAIL_NO_ALP\n",
       "24  18EV412          412           EV\n",
       "25  17EV401          401           EV\n",
       "26  18EV409          409           EV\n",
       "28  18EV408          408           EV\n",
       "29  18EV420          420           EV"
      ]
     },
     "execution_count": 16,
     "metadata": {},
     "output_type": "execute_result"
    }
   ],
   "source": [
    "df[['TRAIL_NO', 'TRAIL_NO_NUM', 'TRAIL_NO_ALP']][df['TRAIL_NO'].str.contains('EV')].head()"
   ]
  },
  {
   "cell_type": "markdown",
   "metadata": {},
   "source": [
    "Still some repeated NUM + ALP combinations, but good enough for now"
   ]
  },
  {
   "cell_type": "code",
   "execution_count": 17,
   "metadata": {},
   "outputs": [
    {
     "data": {
      "text/html": [
       "<div>\n",
       "<style scoped>\n",
       "    .dataframe tbody tr th:only-of-type {\n",
       "        vertical-align: middle;\n",
       "    }\n",
       "\n",
       "    .dataframe tbody tr th {\n",
       "        vertical-align: top;\n",
       "    }\n",
       "\n",
       "    .dataframe thead th {\n",
       "        text-align: right;\n",
       "    }\n",
       "</style>\n",
       "<table border=\"1\" class=\"dataframe\">\n",
       "  <thead>\n",
       "    <tr style=\"text-align: right;\">\n",
       "      <th></th>\n",
       "      <th>TRAIL_NO</th>\n",
       "      <th>TRAIL_NO_NUM</th>\n",
       "      <th>TRAIL_NO_ALP</th>\n",
       "    </tr>\n",
       "  </thead>\n",
       "  <tbody>\n",
       "    <tr>\n",
       "      <th>29</th>\n",
       "      <td>18EV420</td>\n",
       "      <td>420</td>\n",
       "      <td>EV</td>\n",
       "    </tr>\n",
       "    <tr>\n",
       "      <th>152</th>\n",
       "      <td>17DC420</td>\n",
       "      <td>420</td>\n",
       "      <td>DC</td>\n",
       "    </tr>\n",
       "    <tr>\n",
       "      <th>153</th>\n",
       "      <td>16DC420</td>\n",
       "      <td>420</td>\n",
       "      <td>DC</td>\n",
       "    </tr>\n",
       "  </tbody>\n",
       "</table>\n",
       "</div>"
      ],
      "text/plain": [
       "    TRAIL_NO TRAIL_NO_NUM TRAIL_NO_ALP\n",
       "29   18EV420          420           EV\n",
       "152  17DC420          420           DC\n",
       "153  16DC420          420           DC"
      ]
     },
     "execution_count": 17,
     "metadata": {},
     "output_type": "execute_result"
    }
   ],
   "source": [
    "df[['TRAIL_NO', 'TRAIL_NO_NUM', 'TRAIL_NO_ALP']][df['TRAIL_NO_NUM'] == '420']"
   ]
  },
  {
   "cell_type": "code",
   "execution_count": 18,
   "metadata": {},
   "outputs": [
    {
     "data": {
      "text/html": [
       "<div>\n",
       "<style scoped>\n",
       "    .dataframe tbody tr th:only-of-type {\n",
       "        vertical-align: middle;\n",
       "    }\n",
       "\n",
       "    .dataframe tbody tr th {\n",
       "        vertical-align: top;\n",
       "    }\n",
       "\n",
       "    .dataframe thead th {\n",
       "        text-align: right;\n",
       "    }\n",
       "</style>\n",
       "<table border=\"1\" class=\"dataframe\">\n",
       "  <thead>\n",
       "    <tr style=\"text-align: right;\">\n",
       "      <th></th>\n",
       "      <th>TRAIL_NO</th>\n",
       "      <th>TRAIL_NAME</th>\n",
       "      <th>TRAIL_TYPE</th>\n",
       "      <th>TRAIL_CN</th>\n",
       "      <th>BMP</th>\n",
       "      <th>EMP</th>\n",
       "      <th>SEGMENT_LENGTH</th>\n",
       "      <th>ADMIN_ORG</th>\n",
       "      <th>MANAGING_ORG</th>\n",
       "      <th>SECURITY_ID</th>\n",
       "      <th>ATTRIBUTESUBSET</th>\n",
       "      <th>NATIONAL_TRAIL_DESIGNATION</th>\n",
       "      <th>TRAIL_CLASS</th>\n",
       "      <th>TERRA_BASE_SYMBOLOGY</th>\n",
       "      <th>MVUM_SYMBOL</th>\n",
       "      <th>GIS_MILES</th>\n",
       "      <th>OBJECTID</th>\n",
       "      <th>SHAPE_Length</th>\n",
       "      <th>TRAIL_NO_NUM</th>\n",
       "      <th>TRAIL_NO_ALP</th>\n",
       "    </tr>\n",
       "  </thead>\n",
       "  <tbody>\n",
       "    <tr>\n",
       "      <th>0</th>\n",
       "      <td>291</td>\n",
       "      <td>DREW CANYON</td>\n",
       "      <td>TERRA</td>\n",
       "      <td>1.163101e+10</td>\n",
       "      <td>0.0</td>\n",
       "      <td>0.535</td>\n",
       "      <td>0.535</td>\n",
       "      <td>30102</td>\n",
       "      <td>30102</td>\n",
       "      <td>301</td>\n",
       "      <td>TrailNFS_Basic</td>\n",
       "      <td>1</td>\n",
       "      <td>2</td>\n",
       "      <td>TC1-2</td>\n",
       "      <td>99</td>\n",
       "      <td>0.542</td>\n",
       "      <td>1</td>\n",
       "      <td>1054.873841</td>\n",
       "      <td>291</td>\n",
       "      <td></td>\n",
       "    </tr>\n",
       "    <tr>\n",
       "      <th>1</th>\n",
       "      <td>602C</td>\n",
       "      <td>OSPREY</td>\n",
       "      <td>TERRA</td>\n",
       "      <td>1.160901e+10</td>\n",
       "      <td>0.0</td>\n",
       "      <td>0.375</td>\n",
       "      <td>0.375</td>\n",
       "      <td>30106</td>\n",
       "      <td>30106</td>\n",
       "      <td>301</td>\n",
       "      <td>TrailNFS_Basic</td>\n",
       "      <td>1</td>\n",
       "      <td>4</td>\n",
       "      <td>TC4-5</td>\n",
       "      <td>99</td>\n",
       "      <td>0.381</td>\n",
       "      <td>2</td>\n",
       "      <td>728.075541</td>\n",
       "      <td>602</td>\n",
       "      <td>C</td>\n",
       "    </tr>\n",
       "    <tr>\n",
       "      <th>2</th>\n",
       "      <td>648</td>\n",
       "      <td>MEADOWVIEW</td>\n",
       "      <td>TERRA</td>\n",
       "      <td>1.261001e+10</td>\n",
       "      <td>0.0</td>\n",
       "      <td>0.212</td>\n",
       "      <td>0.212</td>\n",
       "      <td>30107</td>\n",
       "      <td>30107</td>\n",
       "      <td>301</td>\n",
       "      <td>TrailNFS_Basic</td>\n",
       "      <td>1</td>\n",
       "      <td>3</td>\n",
       "      <td>TC3</td>\n",
       "      <td>99</td>\n",
       "      <td>0.207</td>\n",
       "      <td>3</td>\n",
       "      <td>412.691543</td>\n",
       "      <td>648</td>\n",
       "      <td></td>\n",
       "    </tr>\n",
       "    <tr>\n",
       "      <th>3</th>\n",
       "      <td>107C</td>\n",
       "      <td>PINEVIEW CONNECTOR</td>\n",
       "      <td>TERRA</td>\n",
       "      <td>1.260101e+10</td>\n",
       "      <td>0.0</td>\n",
       "      <td>0.230</td>\n",
       "      <td>0.230</td>\n",
       "      <td>30107</td>\n",
       "      <td>30107</td>\n",
       "      <td>301</td>\n",
       "      <td>TrailNFS_Basic</td>\n",
       "      <td>1</td>\n",
       "      <td>3</td>\n",
       "      <td>TC3</td>\n",
       "      <td>99</td>\n",
       "      <td>0.238</td>\n",
       "      <td>4</td>\n",
       "      <td>445.207838</td>\n",
       "      <td>107</td>\n",
       "      <td>C</td>\n",
       "    </tr>\n",
       "    <tr>\n",
       "      <th>4</th>\n",
       "      <td>602G</td>\n",
       "      <td>GROUSE</td>\n",
       "      <td>TERRA</td>\n",
       "      <td>1.160501e+10</td>\n",
       "      <td>0.0</td>\n",
       "      <td>1.200</td>\n",
       "      <td>1.200</td>\n",
       "      <td>30106</td>\n",
       "      <td>30106</td>\n",
       "      <td>301</td>\n",
       "      <td>TrailNFS_Basic</td>\n",
       "      <td>1</td>\n",
       "      <td>4</td>\n",
       "      <td>TC4-5</td>\n",
       "      <td>99</td>\n",
       "      <td>1.169</td>\n",
       "      <td>5</td>\n",
       "      <td>2244.851243</td>\n",
       "      <td>602</td>\n",
       "      <td>G</td>\n",
       "    </tr>\n",
       "  </tbody>\n",
       "</table>\n",
       "</div>"
      ],
      "text/plain": [
       "  TRAIL_NO          TRAIL_NAME TRAIL_TYPE      TRAIL_CN  BMP    EMP  \\\n",
       "0      291         DREW CANYON      TERRA  1.163101e+10  0.0  0.535   \n",
       "1     602C              OSPREY      TERRA  1.160901e+10  0.0  0.375   \n",
       "2      648          MEADOWVIEW      TERRA  1.261001e+10  0.0  0.212   \n",
       "3     107C  PINEVIEW CONNECTOR      TERRA  1.260101e+10  0.0  0.230   \n",
       "4     602G              GROUSE      TERRA  1.160501e+10  0.0  1.200   \n",
       "\n",
       "   SEGMENT_LENGTH  ADMIN_ORG  MANAGING_ORG  SECURITY_ID ATTRIBUTESUBSET  \\\n",
       "0           0.535      30102         30102          301  TrailNFS_Basic   \n",
       "1           0.375      30106         30106          301  TrailNFS_Basic   \n",
       "2           0.212      30107         30107          301  TrailNFS_Basic   \n",
       "3           0.230      30107         30107          301  TrailNFS_Basic   \n",
       "4           1.200      30106         30106          301  TrailNFS_Basic   \n",
       "\n",
       "   NATIONAL_TRAIL_DESIGNATION TRAIL_CLASS TERRA_BASE_SYMBOLOGY  MVUM_SYMBOL  \\\n",
       "0                           1           2                TC1-2           99   \n",
       "1                           1           4                TC4-5           99   \n",
       "2                           1           3                  TC3           99   \n",
       "3                           1           3                  TC3           99   \n",
       "4                           1           4                TC4-5           99   \n",
       "\n",
       "   GIS_MILES  OBJECTID  SHAPE_Length TRAIL_NO_NUM TRAIL_NO_ALP  \n",
       "0      0.542         1   1054.873841          291               \n",
       "1      0.381         2    728.075541          602            C  \n",
       "2      0.207         3    412.691543          648               \n",
       "3      0.238         4    445.207838          107            C  \n",
       "4      1.169         5   2244.851243          602            G  "
      ]
     },
     "execution_count": 18,
     "metadata": {},
     "output_type": "execute_result"
    }
   ],
   "source": [
    "cols.append('TRAIL_NO_NUM')\n",
    "cols.append('TRAIL_NO_ALP')\n",
    "df_suf = df[cols]\n",
    "df_suf.head()"
   ]
  },
  {
   "cell_type": "code",
   "execution_count": 19,
   "metadata": {},
   "outputs": [
    {
     "data": {
      "text/plain": [
       "array(['TERRA', 'SNOW'], dtype=object)"
      ]
     },
     "execution_count": 19,
     "metadata": {},
     "output_type": "execute_result"
    }
   ],
   "source": [
    "df_suf['TRAIL_TYPE'].unique()"
   ]
  },
  {
   "cell_type": "code",
   "execution_count": 20,
   "metadata": {},
   "outputs": [
    {
     "data": {
      "text/plain": [
       "0"
      ]
     },
     "execution_count": 20,
     "metadata": {},
     "output_type": "execute_result"
    }
   ],
   "source": [
    "df_suf['TRAIL_NO'][df_suf['TRAIL_TYPE'].isnull()].count()"
   ]
  },
  {
   "cell_type": "markdown",
   "metadata": {},
   "source": [
    "Just exploring so choose to use dict {'TERRA': 0, 'SNOW': 1}"
   ]
  },
  {
   "cell_type": "code",
   "execution_count": 21,
   "metadata": {},
   "outputs": [
    {
     "data": {
      "text/html": [
       "<div>\n",
       "<style scoped>\n",
       "    .dataframe tbody tr th:only-of-type {\n",
       "        vertical-align: middle;\n",
       "    }\n",
       "\n",
       "    .dataframe tbody tr th {\n",
       "        vertical-align: top;\n",
       "    }\n",
       "\n",
       "    .dataframe thead th {\n",
       "        text-align: right;\n",
       "    }\n",
       "</style>\n",
       "<table border=\"1\" class=\"dataframe\">\n",
       "  <thead>\n",
       "    <tr style=\"text-align: right;\">\n",
       "      <th></th>\n",
       "      <th>TRAIL_TYPE</th>\n",
       "      <th>TRAIL_TYPE_CODE</th>\n",
       "    </tr>\n",
       "  </thead>\n",
       "  <tbody>\n",
       "    <tr>\n",
       "      <th>10</th>\n",
       "      <td>SNOW</td>\n",
       "      <td>1</td>\n",
       "    </tr>\n",
       "    <tr>\n",
       "      <th>11</th>\n",
       "      <td>SNOW</td>\n",
       "      <td>1</td>\n",
       "    </tr>\n",
       "    <tr>\n",
       "      <th>12</th>\n",
       "      <td>TERRA</td>\n",
       "      <td>0</td>\n",
       "    </tr>\n",
       "    <tr>\n",
       "      <th>13</th>\n",
       "      <td>TERRA</td>\n",
       "      <td>0</td>\n",
       "    </tr>\n",
       "    <tr>\n",
       "      <th>14</th>\n",
       "      <td>TERRA</td>\n",
       "      <td>0</td>\n",
       "    </tr>\n",
       "  </tbody>\n",
       "</table>\n",
       "</div>"
      ],
      "text/plain": [
       "   TRAIL_TYPE  TRAIL_TYPE_CODE\n",
       "10       SNOW                1\n",
       "11       SNOW                1\n",
       "12      TERRA                0\n",
       "13      TERRA                0\n",
       "14      TERRA                0"
      ]
     },
     "execution_count": 21,
     "metadata": {},
     "output_type": "execute_result"
    }
   ],
   "source": [
    "df['TRAIL_TYPE_CODE'] = df['TRAIL_TYPE'].map({'TERRA': 0, 'SNOW': 1})\n",
    "df[['TRAIL_TYPE', 'TRAIL_TYPE_CODE']].iloc[10:15]"
   ]
  },
  {
   "cell_type": "markdown",
   "metadata": {},
   "source": [
    "TRAIL_CN for Trail Control Number"
   ]
  },
  {
   "cell_type": "code",
   "execution_count": 22,
   "metadata": {},
   "outputs": [
    {
     "data": {
      "text/html": [
       "<div>\n",
       "<style scoped>\n",
       "    .dataframe tbody tr th:only-of-type {\n",
       "        vertical-align: middle;\n",
       "    }\n",
       "\n",
       "    .dataframe tbody tr th {\n",
       "        vertical-align: top;\n",
       "    }\n",
       "\n",
       "    .dataframe thead th {\n",
       "        text-align: right;\n",
       "    }\n",
       "</style>\n",
       "<table border=\"1\" class=\"dataframe\">\n",
       "  <thead>\n",
       "    <tr style=\"text-align: right;\">\n",
       "      <th></th>\n",
       "      <th>TRAIL_CN</th>\n",
       "    </tr>\n",
       "  </thead>\n",
       "  <tbody>\n",
       "    <tr>\n",
       "      <th>0</th>\n",
       "      <td>11631010437</td>\n",
       "    </tr>\n",
       "    <tr>\n",
       "      <th>1</th>\n",
       "      <td>11609010437</td>\n",
       "    </tr>\n",
       "    <tr>\n",
       "      <th>2</th>\n",
       "      <td>12610010437</td>\n",
       "    </tr>\n",
       "    <tr>\n",
       "      <th>3</th>\n",
       "      <td>12601010437</td>\n",
       "    </tr>\n",
       "    <tr>\n",
       "      <th>4</th>\n",
       "      <td>11605010437</td>\n",
       "    </tr>\n",
       "  </tbody>\n",
       "</table>\n",
       "</div>"
      ],
      "text/plain": [
       "      TRAIL_CN\n",
       "0  11631010437\n",
       "1  11609010437\n",
       "2  12610010437\n",
       "3  12601010437\n",
       "4  11605010437"
      ]
     },
     "execution_count": 22,
     "metadata": {},
     "output_type": "execute_result"
    }
   ],
   "source": [
    "df['TRAIL_CN'] = df['TRAIL_CN'].astype(int)\n",
    "df[['TRAIL_CN']][:5]\n",
    "# df[['TRAIL_CN']][-5:]"
   ]
  },
  {
   "cell_type": "markdown",
   "metadata": {},
   "source": [
    "BMP for Beginning Marker Point, EMP for Ending  \n",
    "Curious about consistency with SEGMENT_LENGTH"
   ]
  },
  {
   "cell_type": "code",
   "execution_count": 23,
   "metadata": {},
   "outputs": [
    {
     "data": {
      "text/html": [
       "<div>\n",
       "<style scoped>\n",
       "    .dataframe tbody tr th:only-of-type {\n",
       "        vertical-align: middle;\n",
       "    }\n",
       "\n",
       "    .dataframe tbody tr th {\n",
       "        vertical-align: top;\n",
       "    }\n",
       "\n",
       "    .dataframe thead th {\n",
       "        text-align: right;\n",
       "    }\n",
       "</style>\n",
       "<table border=\"1\" class=\"dataframe\">\n",
       "  <thead>\n",
       "    <tr style=\"text-align: right;\">\n",
       "      <th></th>\n",
       "      <th>BMP</th>\n",
       "      <th>EMP</th>\n",
       "      <th>SEGMENT_LENGTH</th>\n",
       "    </tr>\n",
       "  </thead>\n",
       "  <tbody>\n",
       "    <tr>\n",
       "      <th>0</th>\n",
       "      <td>0.0</td>\n",
       "      <td>0.535</td>\n",
       "      <td>0.535</td>\n",
       "    </tr>\n",
       "    <tr>\n",
       "      <th>1</th>\n",
       "      <td>0.0</td>\n",
       "      <td>0.375</td>\n",
       "      <td>0.375</td>\n",
       "    </tr>\n",
       "    <tr>\n",
       "      <th>2</th>\n",
       "      <td>0.0</td>\n",
       "      <td>0.212</td>\n",
       "      <td>0.212</td>\n",
       "    </tr>\n",
       "    <tr>\n",
       "      <th>3</th>\n",
       "      <td>0.0</td>\n",
       "      <td>0.230</td>\n",
       "      <td>0.230</td>\n",
       "    </tr>\n",
       "    <tr>\n",
       "      <th>4</th>\n",
       "      <td>0.0</td>\n",
       "      <td>1.200</td>\n",
       "      <td>1.200</td>\n",
       "    </tr>\n",
       "  </tbody>\n",
       "</table>\n",
       "</div>"
      ],
      "text/plain": [
       "   BMP    EMP  SEGMENT_LENGTH\n",
       "0  0.0  0.535           0.535\n",
       "1  0.0  0.375           0.375\n",
       "2  0.0  0.212           0.212\n",
       "3  0.0  0.230           0.230\n",
       "4  0.0  1.200           1.200"
      ]
     },
     "execution_count": 23,
     "metadata": {},
     "output_type": "execute_result"
    }
   ],
   "source": [
    "df[['BMP', 'EMP', 'SEGMENT_LENGTH']].head()"
   ]
  },
  {
   "cell_type": "code",
   "execution_count": 24,
   "metadata": {},
   "outputs": [
    {
     "data": {
      "text/plain": [
       "TRAIL_NO    74\n",
       "BMP         74\n",
       "dtype: int64"
      ]
     },
     "execution_count": 24,
     "metadata": {},
     "output_type": "execute_result"
    }
   ],
   "source": [
    "# df['BMP'].unique()\n",
    "# 0 is NOT the only value for BMP\n",
    "\n",
    "df[['TRAIL_NO', 'BMP']][df['BMP'] != 0].count()"
   ]
  },
  {
   "cell_type": "code",
   "execution_count": 25,
   "metadata": {},
   "outputs": [
    {
     "data": {
      "text/plain": [
       "TRAIL_NO          50\n",
       "BMP               50\n",
       "EMP               50\n",
       "SEGMENT_LENGTH    50\n",
       "dtype: int64"
      ]
     },
     "execution_count": 25,
     "metadata": {},
     "output_type": "execute_result"
    }
   ],
   "source": [
    "df[['TRAIL_NO', 'BMP', 'EMP', 'SEGMENT_LENGTH']][df['EMP'] - df['BMP'] != df['SEGMENT_LENGTH']].count()"
   ]
  },
  {
   "cell_type": "code",
   "execution_count": 26,
   "metadata": {},
   "outputs": [
    {
     "data": {
      "text/plain": [
       "TRAIL_NO          0\n",
       "BMP               0\n",
       "EMP               0\n",
       "SEGMENT_LENGTH    0\n",
       "dtype: int64"
      ]
     },
     "execution_count": 26,
     "metadata": {},
     "output_type": "execute_result"
    }
   ],
   "source": [
    "df[['TRAIL_NO', 'BMP', 'EMP', 'SEGMENT_LENGTH']][abs(df['EMP'] - df['BMP'] - df['SEGMENT_LENGTH']) > .001].count()"
   ]
  },
  {
   "cell_type": "markdown",
   "metadata": {},
   "source": [
    "Conclude that SEGMENT_LENGTH was constructed from BMP and EMP features  \n",
    "Will proceed with SEGMENT_LENGTH  \n",
    "* Is there any meaning behind non-zero BMPs?"
   ]
  },
  {
   "cell_type": "code",
   "execution_count": 27,
   "metadata": {},
   "outputs": [
    {
     "data": {
      "text/plain": [
       "38"
      ]
     },
     "execution_count": 27,
     "metadata": {},
     "output_type": "execute_result"
    }
   ],
   "source": [
    "from collections import Counter\n",
    "c = Counter(df['TRAIL_CN'])\n",
    "common_cn = []\n",
    "for key in c.keys():\n",
    "    if c[key] > 1:\n",
    "        common_cn.append(key)\n",
    "len(common_cn)\n",
    "# type(common_cn)"
   ]
  },
  {
   "cell_type": "markdown",
   "metadata": {},
   "source": [
    "38 non-unique elements of TRAIL_CN"
   ]
  },
  {
   "cell_type": "code",
   "execution_count": 28,
   "metadata": {},
   "outputs": [
    {
     "data": {
      "text/plain": [
       "TRAIL_NO    113\n",
       "TRAIL_CN    113\n",
       "dtype: int64"
      ]
     },
     "execution_count": 28,
     "metadata": {},
     "output_type": "execute_result"
    }
   ],
   "source": [
    "df[['TRAIL_NO', 'TRAIL_CN']][df['TRAIL_CN'].fillna(0).isin(common_cn)].count()"
   ]
  },
  {
   "cell_type": "markdown",
   "metadata": {},
   "source": [
    "11% of trails have a non-unique control number  \n",
    "So far I don't think this will be a problem"
   ]
  },
  {
   "cell_type": "markdown",
   "metadata": {},
   "source": [
    "Parsing metadata found in an xml file"
   ]
  },
  {
   "cell_type": "code",
   "execution_count": 29,
   "metadata": {},
   "outputs": [],
   "source": [
    "import xml.etree.ElementTree as ET\n",
    "tree = ET.parse('../Resources/NFS_Trail_Metadata.xml')\n",
    "root = tree.getroot()"
   ]
  },
  {
   "cell_type": "markdown",
   "metadata": {},
   "source": [
    "Metadata is in eainfo (for Entity and Attribute) tag"
   ]
  },
  {
   "cell_type": "code",
   "execution_count": 30,
   "metadata": {},
   "outputs": [
    {
     "name": "stdout",
     "output_type": "stream",
     "text": [
      "idinfo {}\n",
      "dataqual {}\n",
      "spdoinfo {}\n",
      "spref {}\n",
      "eainfo {}\n",
      "distinfo {}\n",
      "metainfo {}\n"
     ]
    }
   ],
   "source": [
    "for child in root:\n",
    "    print(child.tag, child.attrib)"
   ]
  },
  {
   "cell_type": "code",
   "execution_count": 31,
   "metadata": {},
   "outputs": [
    {
     "data": {
      "text/plain": [
       "[['OBJECTID', 'Internal feature number.'],\n",
       " ['TRAIL_NO',\n",
       "  'The official numeric or alphanumeric identifier for the trail.'],\n",
       " ['TRAIL_NAME',\n",
       "  'The name that the trail or trail segment is officially or legally known by.']]"
      ]
     },
     "execution_count": 31,
     "metadata": {},
     "output_type": "execute_result"
    }
   ],
   "source": [
    "data_meta = []\n",
    "for child in root[4][0][1:]:\n",
    "    name = child.find('attrlabl').text\n",
    "    try:\n",
    "        defn = child.find('attrdef').text\n",
    "    except AttributeError:\n",
    "        defn = None\n",
    "    data_meta.append([name, defn])\n",
    "data_meta[:3]"
   ]
  },
  {
   "cell_type": "code",
   "execution_count": 32,
   "metadata": {},
   "outputs": [
    {
     "data": {
      "text/plain": [
       "8    The administrative unit within the Forest Service where the trail or trail segment physically resides.\n",
       "Name: ea_defn, dtype: object"
      ]
     },
     "execution_count": 32,
     "metadata": {},
     "output_type": "execute_result"
    }
   ],
   "source": [
    "pd.set_option(\"display.max_colwidth\", 10000)\n",
    "df_meta = pd.DataFrame(data_meta, columns=['ea_name', 'ea_defn'])\n",
    "df_meta[df_meta['ea_name'] == 'ADMIN_ORG'].iloc[:, 1]"
   ]
  },
  {
   "cell_type": "code",
   "execution_count": 33,
   "metadata": {},
   "outputs": [
    {
     "data": {
      "text/plain": [
       "array([30102, 30106, 30107, 30103, 41904, 41902, 51654, 51651, 51652,\n",
       "       51653, 41903, 80803, 41553, 41555, 41706, 41552, 41557, 41556,\n",
       "       10201, 41551, 41554, 41709, 30101, 80813])"
      ]
     },
     "execution_count": 33,
     "metadata": {},
     "output_type": "execute_result"
    }
   ],
   "source": [
    "df['ADMIN_ORG'].unique()"
   ]
  },
  {
   "cell_type": "code",
   "execution_count": 41,
   "metadata": {},
   "outputs": [
    {
     "data": {
      "text/plain": [
       "NATIONAL_TRAIL_DESIGNATION\n",
       "0    626\n",
       "1    354\n",
       "2      1\n",
       "3     19\n",
       "Name: TRAIL_NO, dtype: int64"
      ]
     },
     "execution_count": 41,
     "metadata": {},
     "output_type": "execute_result"
    }
   ],
   "source": [
    "df['TRAIL_NO'].groupby(by=df['NATIONAL_TRAIL_DESIGNATION']).count()"
   ]
  },
  {
   "cell_type": "markdown",
   "metadata": {},
   "source": [
    "0 Feature has not been populated  \n",
    "1 Not designated as a National Trail  \n",
    "2 All other trail designations  \n",
    "3 National Scenic or National Historic Trail"
   ]
  },
  {
   "cell_type": "code",
   "execution_count": 43,
   "metadata": {},
   "outputs": [
    {
     "data": {
      "text/plain": [
       "TRAIL_CLASS\n",
       "1     15\n",
       "2    180\n",
       "3    128\n",
       "4     47\n",
       "5      4\n",
       "N    626\n",
       "Name: TRAIL_NO, dtype: int64"
      ]
     },
     "execution_count": 43,
     "metadata": {},
     "output_type": "execute_result"
    }
   ],
   "source": [
    "df['TRAIL_NO'].groupby(by=df['TRAIL_CLASS']).count()"
   ]
  },
  {
   "cell_type": "markdown",
   "metadata": {},
   "source": [
    "1-5 scale from least to most developed  \n",
    "N for feature has not been populated"
   ]
  },
  {
   "cell_type": "code",
   "execution_count": 51,
   "metadata": {},
   "outputs": [
    {
     "data": {
      "text/html": [
       "<div>\n",
       "<style scoped>\n",
       "    .dataframe tbody tr th:only-of-type {\n",
       "        vertical-align: middle;\n",
       "    }\n",
       "\n",
       "    .dataframe tbody tr th {\n",
       "        vertical-align: top;\n",
       "    }\n",
       "\n",
       "    .dataframe thead th {\n",
       "        text-align: right;\n",
       "    }\n",
       "</style>\n",
       "<table border=\"1\" class=\"dataframe\">\n",
       "  <thead>\n",
       "    <tr style=\"text-align: right;\">\n",
       "      <th></th>\n",
       "      <th>TRAIL_NO</th>\n",
       "    </tr>\n",
       "    <tr>\n",
       "      <th>NATIONAL_TRAIL_DESIGNATION</th>\n",
       "      <th></th>\n",
       "    </tr>\n",
       "  </thead>\n",
       "  <tbody>\n",
       "    <tr>\n",
       "      <th>1</th>\n",
       "      <td>50</td>\n",
       "    </tr>\n",
       "    <tr>\n",
       "      <th>3</th>\n",
       "      <td>1</td>\n",
       "    </tr>\n",
       "  </tbody>\n",
       "</table>\n",
       "</div>"
      ],
      "text/plain": [
       "                            TRAIL_NO\n",
       "NATIONAL_TRAIL_DESIGNATION          \n",
       "1                                 50\n",
       "3                                  1"
      ]
     },
     "execution_count": 51,
     "metadata": {},
     "output_type": "execute_result"
    }
   ],
   "source": [
    "df[['TRAIL_NO']][df['TRAIL_CLASS'].fillna('N').isin(['4', '5'])].groupby(df['NATIONAL_TRAIL_DESIGNATION']).count()"
   ]
  },
  {
   "cell_type": "code",
   "execution_count": 52,
   "metadata": {},
   "outputs": [
    {
     "data": {
      "text/html": [
       "<div>\n",
       "<style scoped>\n",
       "    .dataframe tbody tr th:only-of-type {\n",
       "        vertical-align: middle;\n",
       "    }\n",
       "\n",
       "    .dataframe tbody tr th {\n",
       "        vertical-align: top;\n",
       "    }\n",
       "\n",
       "    .dataframe thead th {\n",
       "        text-align: right;\n",
       "    }\n",
       "</style>\n",
       "<table border=\"1\" class=\"dataframe\">\n",
       "  <thead>\n",
       "    <tr style=\"text-align: right;\">\n",
       "      <th></th>\n",
       "      <th>TRAIL_NO</th>\n",
       "    </tr>\n",
       "    <tr>\n",
       "      <th>TRAIL_CLASS</th>\n",
       "      <th></th>\n",
       "    </tr>\n",
       "  </thead>\n",
       "  <tbody>\n",
       "    <tr>\n",
       "      <th>2</th>\n",
       "      <td>17</td>\n",
       "    </tr>\n",
       "    <tr>\n",
       "      <th>3</th>\n",
       "      <td>2</td>\n",
       "    </tr>\n",
       "    <tr>\n",
       "      <th>4</th>\n",
       "      <td>1</td>\n",
       "    </tr>\n",
       "  </tbody>\n",
       "</table>\n",
       "</div>"
      ],
      "text/plain": [
       "             TRAIL_NO\n",
       "TRAIL_CLASS          \n",
       "2                  17\n",
       "3                   2\n",
       "4                   1"
      ]
     },
     "execution_count": 52,
     "metadata": {},
     "output_type": "execute_result"
    }
   ],
   "source": [
    "df[['TRAIL_NO']][df['NATIONAL_TRAIL_DESIGNATION'].isin(['2', '3'])].groupby(by=df['TRAIL_CLASS']).count()"
   ]
  },
  {
   "cell_type": "markdown",
   "metadata": {},
   "source": [
    "Not much overlap between National Trail Designation and Trail Class  \n",
    "* Consider that trail _development_ may be anathema to historic preservation (eg. bike trails, campsites, automobile access)"
   ]
  },
  {
   "cell_type": "code",
   "execution_count": null,
   "metadata": {},
   "outputs": [],
   "source": []
  }
 ],
 "metadata": {
  "kernelspec": {
   "display_name": "Python 3",
   "language": "python",
   "name": "python3"
  },
  "language_info": {
   "codemirror_mode": {
    "name": "ipython",
    "version": 3
   },
   "file_extension": ".py",
   "mimetype": "text/x-python",
   "name": "python",
   "nbconvert_exporter": "python",
   "pygments_lexer": "ipython3",
   "version": "3.6.5"
  }
 },
 "nbformat": 4,
 "nbformat_minor": 2
}
